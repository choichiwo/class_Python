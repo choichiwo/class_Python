{
  "nbformat": 4,
  "nbformat_minor": 0,
  "metadata": {
    "colab": {
      "name": "Pandas 10분 완성.ipynb",
      "provenance": [],
      "authorship_tag": "ABX9TyO2eMdnvTb4ftXgMM0cOvAq"
    },
    "kernelspec": {
      "name": "python3",
      "display_name": "Python 3"
    }
  },
  "cells": [
    {
      "cell_type": "markdown",
      "metadata": {
        "id": "mJQARk343_me"
      },
      "source": [
        "# 1. Object Creation (객체 생성)\n"
      ]
    },
    {
      "cell_type": "code",
      "metadata": {
        "id": "e5fkSRCM2TvQ"
      },
      "source": [
        "import pandas as pd\n",
        "import numpy as np\n",
        "import matplotlib.pyplot as plt"
      ],
      "execution_count": 4,
      "outputs": []
    },
    {
      "cell_type": "code",
      "metadata": {
        "id": "qLNi_QSv2lic",
        "outputId": "df2178c3-f6b8-44f5-cbf9-9a8c2d17543c",
        "colab": {
          "base_uri": "https://localhost:8080/"
        }
      },
      "source": [
        "s = pd.Series([1,3,5,np.nan, 6,8])\n",
        "s"
      ],
      "execution_count": 6,
      "outputs": [
        {
          "output_type": "execute_result",
          "data": {
            "text/plain": [
              "0    1.0\n",
              "1    3.0\n",
              "2    5.0\n",
              "3    NaN\n",
              "4    6.0\n",
              "5    8.0\n",
              "dtype: float64"
            ]
          },
          "metadata": {
            "tags": []
          },
          "execution_count": 6
        }
      ]
    },
    {
      "cell_type": "markdown",
      "metadata": {
        "id": "HojelYL_2wR9"
      },
      "source": [
        "datetime 인덱스와 레이블이 있는 열을 가지고 있는 numpy 배열을 전달하여 데이터프레임을 만듭니다."
      ]
    },
    {
      "cell_type": "markdown",
      "metadata": {
        "id": "iezy7zB542Vg"
      },
      "source": [
        ""
      ]
    },
    {
      "cell_type": "code",
      "metadata": {
        "id": "l--_Ujg141dV",
        "outputId": "2e4e3f06-73a5-49fe-dd8c-92831d9d33d7",
        "colab": {
          "base_uri": "https://localhost:8080/"
        }
      },
      "source": [
        "dates = pd.date_range('20130101', periods=6)\n",
        "dates"
      ],
      "execution_count": 7,
      "outputs": [
        {
          "output_type": "execute_result",
          "data": {
            "text/plain": [
              "DatetimeIndex(['2013-01-01', '2013-01-02', '2013-01-03', '2013-01-04',\n",
              "               '2013-01-05', '2013-01-06'],\n",
              "              dtype='datetime64[ns]', freq='D')"
            ]
          },
          "metadata": {
            "tags": []
          },
          "execution_count": 7
        }
      ]
    },
    {
      "cell_type": "code",
      "metadata": {
        "id": "IBuQdej-5boH",
        "outputId": "5e3f060b-73e2-4724-e01b-3ad0f0083684",
        "colab": {
          "base_uri": "https://localhost:8080/",
          "height": 225
        }
      },
      "source": [
        "df = pd.DataFrame(np.random.randn(6,4), index=dates, columns=list('ABCD'))\n",
        "df"
      ],
      "execution_count": 8,
      "outputs": [
        {
          "output_type": "execute_result",
          "data": {
            "text/html": [
              "<div>\n",
              "<style scoped>\n",
              "    .dataframe tbody tr th:only-of-type {\n",
              "        vertical-align: middle;\n",
              "    }\n",
              "\n",
              "    .dataframe tbody tr th {\n",
              "        vertical-align: top;\n",
              "    }\n",
              "\n",
              "    .dataframe thead th {\n",
              "        text-align: right;\n",
              "    }\n",
              "</style>\n",
              "<table border=\"1\" class=\"dataframe\">\n",
              "  <thead>\n",
              "    <tr style=\"text-align: right;\">\n",
              "      <th></th>\n",
              "      <th>A</th>\n",
              "      <th>B</th>\n",
              "      <th>C</th>\n",
              "      <th>D</th>\n",
              "    </tr>\n",
              "  </thead>\n",
              "  <tbody>\n",
              "    <tr>\n",
              "      <th>2013-01-01</th>\n",
              "      <td>-0.342426</td>\n",
              "      <td>-0.851732</td>\n",
              "      <td>1.347389</td>\n",
              "      <td>-0.812204</td>\n",
              "    </tr>\n",
              "    <tr>\n",
              "      <th>2013-01-02</th>\n",
              "      <td>-3.143569</td>\n",
              "      <td>-0.354926</td>\n",
              "      <td>0.006140</td>\n",
              "      <td>1.394260</td>\n",
              "    </tr>\n",
              "    <tr>\n",
              "      <th>2013-01-03</th>\n",
              "      <td>0.417865</td>\n",
              "      <td>-0.202697</td>\n",
              "      <td>-1.131247</td>\n",
              "      <td>-0.275793</td>\n",
              "    </tr>\n",
              "    <tr>\n",
              "      <th>2013-01-04</th>\n",
              "      <td>0.295284</td>\n",
              "      <td>0.917545</td>\n",
              "      <td>0.918773</td>\n",
              "      <td>1.900139</td>\n",
              "    </tr>\n",
              "    <tr>\n",
              "      <th>2013-01-05</th>\n",
              "      <td>0.776590</td>\n",
              "      <td>0.096479</td>\n",
              "      <td>-1.093643</td>\n",
              "      <td>-0.452882</td>\n",
              "    </tr>\n",
              "    <tr>\n",
              "      <th>2013-01-06</th>\n",
              "      <td>-0.418649</td>\n",
              "      <td>0.843096</td>\n",
              "      <td>1.005303</td>\n",
              "      <td>-1.007763</td>\n",
              "    </tr>\n",
              "  </tbody>\n",
              "</table>\n",
              "</div>"
            ],
            "text/plain": [
              "                   A         B         C         D\n",
              "2013-01-01 -0.342426 -0.851732  1.347389 -0.812204\n",
              "2013-01-02 -3.143569 -0.354926  0.006140  1.394260\n",
              "2013-01-03  0.417865 -0.202697 -1.131247 -0.275793\n",
              "2013-01-04  0.295284  0.917545  0.918773  1.900139\n",
              "2013-01-05  0.776590  0.096479 -1.093643 -0.452882\n",
              "2013-01-06 -0.418649  0.843096  1.005303 -1.007763"
            ]
          },
          "metadata": {
            "tags": []
          },
          "execution_count": 8
        }
      ]
    },
    {
      "cell_type": "markdown",
      "metadata": {
        "id": "yHPkaOXn5naF"
      },
      "source": [
        "Series와 같은 것으로 변환될 수 있는 객체들의 dict로 구성된 데이터프레임을 만듭니다."
      ]
    },
    {
      "cell_type": "code",
      "metadata": {
        "id": "t5bdsk3v5sIk",
        "outputId": "1861b154-fd16-4b5c-a803-1c3f243f09cc",
        "colab": {
          "base_uri": "https://localhost:8080/",
          "height": 166
        }
      },
      "source": [
        "df2 = pd.DataFrame({'A' : 1.,\n",
        "                    'B' : pd.Timestamp('20130102'),\n",
        "                    'C' : pd.Series(1,index=list(range(4)),dtype='float32'),\n",
        "                    'D' : np.array([3] * 4,dtype='int32'),\n",
        "                    'E' : pd.Categorical([\"test\",\"train\",\"test\",\"train\"]),\n",
        "                    'F' : 'foo' })\n",
        "df2"
      ],
      "execution_count": 9,
      "outputs": [
        {
          "output_type": "execute_result",
          "data": {
            "text/html": [
              "<div>\n",
              "<style scoped>\n",
              "    .dataframe tbody tr th:only-of-type {\n",
              "        vertical-align: middle;\n",
              "    }\n",
              "\n",
              "    .dataframe tbody tr th {\n",
              "        vertical-align: top;\n",
              "    }\n",
              "\n",
              "    .dataframe thead th {\n",
              "        text-align: right;\n",
              "    }\n",
              "</style>\n",
              "<table border=\"1\" class=\"dataframe\">\n",
              "  <thead>\n",
              "    <tr style=\"text-align: right;\">\n",
              "      <th></th>\n",
              "      <th>A</th>\n",
              "      <th>B</th>\n",
              "      <th>C</th>\n",
              "      <th>D</th>\n",
              "      <th>E</th>\n",
              "      <th>F</th>\n",
              "    </tr>\n",
              "  </thead>\n",
              "  <tbody>\n",
              "    <tr>\n",
              "      <th>0</th>\n",
              "      <td>1.0</td>\n",
              "      <td>2013-01-02</td>\n",
              "      <td>1.0</td>\n",
              "      <td>3</td>\n",
              "      <td>test</td>\n",
              "      <td>foo</td>\n",
              "    </tr>\n",
              "    <tr>\n",
              "      <th>1</th>\n",
              "      <td>1.0</td>\n",
              "      <td>2013-01-02</td>\n",
              "      <td>1.0</td>\n",
              "      <td>3</td>\n",
              "      <td>train</td>\n",
              "      <td>foo</td>\n",
              "    </tr>\n",
              "    <tr>\n",
              "      <th>2</th>\n",
              "      <td>1.0</td>\n",
              "      <td>2013-01-02</td>\n",
              "      <td>1.0</td>\n",
              "      <td>3</td>\n",
              "      <td>test</td>\n",
              "      <td>foo</td>\n",
              "    </tr>\n",
              "    <tr>\n",
              "      <th>3</th>\n",
              "      <td>1.0</td>\n",
              "      <td>2013-01-02</td>\n",
              "      <td>1.0</td>\n",
              "      <td>3</td>\n",
              "      <td>train</td>\n",
              "      <td>foo</td>\n",
              "    </tr>\n",
              "  </tbody>\n",
              "</table>\n",
              "</div>"
            ],
            "text/plain": [
              "     A          B    C  D      E    F\n",
              "0  1.0 2013-01-02  1.0  3   test  foo\n",
              "1  1.0 2013-01-02  1.0  3  train  foo\n",
              "2  1.0 2013-01-02  1.0  3   test  foo\n",
              "3  1.0 2013-01-02  1.0  3  train  foo"
            ]
          },
          "metadata": {
            "tags": []
          },
          "execution_count": 9
        }
      ]
    },
    {
      "cell_type": "markdown",
      "metadata": {
        "id": "rm9SI2lT54Fl"
      },
      "source": [
        "데이터프레임 결과물의 열은 다양한 데이터 타입 (dtypes)으로 구성됩니다."
      ]
    },
    {
      "cell_type": "code",
      "metadata": {
        "id": "9gznmiSL56G9",
        "outputId": "10594aeb-325d-4411-9aac-bbe2ea4947e1",
        "colab": {
          "base_uri": "https://localhost:8080/"
        }
      },
      "source": [
        "df2.dtypes"
      ],
      "execution_count": 10,
      "outputs": [
        {
          "output_type": "execute_result",
          "data": {
            "text/plain": [
              "A           float64\n",
              "B    datetime64[ns]\n",
              "C           float32\n",
              "D             int32\n",
              "E          category\n",
              "F            object\n",
              "dtype: object"
            ]
          },
          "metadata": {
            "tags": []
          },
          "execution_count": 10
        }
      ]
    },
    {
      "cell_type": "markdown",
      "metadata": {
        "id": "CvXnsjMR6DGt"
      },
      "source": [
        "# 2. Viewing Data (데이터 확인하기)\n",
        "Basic Section을 참조하세요.\n",
        "\n",
        "데이터프레임의 가장 윗 줄과 마지막 줄을 확인하고 싶을 때에 사용하는 방법은 다음과 같습니다.\n",
        "\n",
        "역자 주: 괄호() 안에는 숫자가 들어갈 수도 있고 안 들어갈 수도 있습니다. 숫자가 들어간다면, 윗 / 마지막 줄의 특정 줄을 불러올 수 있습니다. 숫자가 들어가지 않다면, 기본값인 5로 처리됩니다.\n",
        "\n",
        "예시"
      ]
    },
    {
      "cell_type": "code",
      "metadata": {
        "id": "fzLjfAWl6Osj",
        "outputId": "1f8db69b-7c8a-4255-efd8-93ce519dc9a5",
        "colab": {
          "base_uri": "https://localhost:8080/",
          "height": 195
        }
      },
      "source": [
        "df.tail(3)  # 끝에서 마지막 3줄을 불러옴\n",
        "df.tail()  # 끝에서 마지막 5줄 불러옴\n",
        "df.head()"
      ],
      "execution_count": 11,
      "outputs": [
        {
          "output_type": "execute_result",
          "data": {
            "text/html": [
              "<div>\n",
              "<style scoped>\n",
              "    .dataframe tbody tr th:only-of-type {\n",
              "        vertical-align: middle;\n",
              "    }\n",
              "\n",
              "    .dataframe tbody tr th {\n",
              "        vertical-align: top;\n",
              "    }\n",
              "\n",
              "    .dataframe thead th {\n",
              "        text-align: right;\n",
              "    }\n",
              "</style>\n",
              "<table border=\"1\" class=\"dataframe\">\n",
              "  <thead>\n",
              "    <tr style=\"text-align: right;\">\n",
              "      <th></th>\n",
              "      <th>A</th>\n",
              "      <th>B</th>\n",
              "      <th>C</th>\n",
              "      <th>D</th>\n",
              "    </tr>\n",
              "  </thead>\n",
              "  <tbody>\n",
              "    <tr>\n",
              "      <th>2013-01-01</th>\n",
              "      <td>-0.342426</td>\n",
              "      <td>-0.851732</td>\n",
              "      <td>1.347389</td>\n",
              "      <td>-0.812204</td>\n",
              "    </tr>\n",
              "    <tr>\n",
              "      <th>2013-01-02</th>\n",
              "      <td>-3.143569</td>\n",
              "      <td>-0.354926</td>\n",
              "      <td>0.006140</td>\n",
              "      <td>1.394260</td>\n",
              "    </tr>\n",
              "    <tr>\n",
              "      <th>2013-01-03</th>\n",
              "      <td>0.417865</td>\n",
              "      <td>-0.202697</td>\n",
              "      <td>-1.131247</td>\n",
              "      <td>-0.275793</td>\n",
              "    </tr>\n",
              "    <tr>\n",
              "      <th>2013-01-04</th>\n",
              "      <td>0.295284</td>\n",
              "      <td>0.917545</td>\n",
              "      <td>0.918773</td>\n",
              "      <td>1.900139</td>\n",
              "    </tr>\n",
              "    <tr>\n",
              "      <th>2013-01-05</th>\n",
              "      <td>0.776590</td>\n",
              "      <td>0.096479</td>\n",
              "      <td>-1.093643</td>\n",
              "      <td>-0.452882</td>\n",
              "    </tr>\n",
              "  </tbody>\n",
              "</table>\n",
              "</div>"
            ],
            "text/plain": [
              "                   A         B         C         D\n",
              "2013-01-01 -0.342426 -0.851732  1.347389 -0.812204\n",
              "2013-01-02 -3.143569 -0.354926  0.006140  1.394260\n",
              "2013-01-03  0.417865 -0.202697 -1.131247 -0.275793\n",
              "2013-01-04  0.295284  0.917545  0.918773  1.900139\n",
              "2013-01-05  0.776590  0.096479 -1.093643 -0.452882"
            ]
          },
          "metadata": {
            "tags": []
          },
          "execution_count": 11
        }
      ]
    },
    {
      "cell_type": "code",
      "metadata": {
        "id": "FC9yDO3c6W3s",
        "outputId": "3ec504e3-c99a-4ff0-93e5-23eec334fd2b",
        "colab": {
          "base_uri": "https://localhost:8080/",
          "height": 136
        }
      },
      "source": [
        "df.tail(3)"
      ],
      "execution_count": 12,
      "outputs": [
        {
          "output_type": "execute_result",
          "data": {
            "text/html": [
              "<div>\n",
              "<style scoped>\n",
              "    .dataframe tbody tr th:only-of-type {\n",
              "        vertical-align: middle;\n",
              "    }\n",
              "\n",
              "    .dataframe tbody tr th {\n",
              "        vertical-align: top;\n",
              "    }\n",
              "\n",
              "    .dataframe thead th {\n",
              "        text-align: right;\n",
              "    }\n",
              "</style>\n",
              "<table border=\"1\" class=\"dataframe\">\n",
              "  <thead>\n",
              "    <tr style=\"text-align: right;\">\n",
              "      <th></th>\n",
              "      <th>A</th>\n",
              "      <th>B</th>\n",
              "      <th>C</th>\n",
              "      <th>D</th>\n",
              "    </tr>\n",
              "  </thead>\n",
              "  <tbody>\n",
              "    <tr>\n",
              "      <th>2013-01-04</th>\n",
              "      <td>0.295284</td>\n",
              "      <td>0.917545</td>\n",
              "      <td>0.918773</td>\n",
              "      <td>1.900139</td>\n",
              "    </tr>\n",
              "    <tr>\n",
              "      <th>2013-01-05</th>\n",
              "      <td>0.776590</td>\n",
              "      <td>0.096479</td>\n",
              "      <td>-1.093643</td>\n",
              "      <td>-0.452882</td>\n",
              "    </tr>\n",
              "    <tr>\n",
              "      <th>2013-01-06</th>\n",
              "      <td>-0.418649</td>\n",
              "      <td>0.843096</td>\n",
              "      <td>1.005303</td>\n",
              "      <td>-1.007763</td>\n",
              "    </tr>\n",
              "  </tbody>\n",
              "</table>\n",
              "</div>"
            ],
            "text/plain": [
              "                   A         B         C         D\n",
              "2013-01-04  0.295284  0.917545  0.918773  1.900139\n",
              "2013-01-05  0.776590  0.096479 -1.093643 -0.452882\n",
              "2013-01-06 -0.418649  0.843096  1.005303 -1.007763"
            ]
          },
          "metadata": {
            "tags": []
          },
          "execution_count": 12
        }
      ]
    },
    {
      "cell_type": "markdown",
      "metadata": {
        "id": "PrCmJx5W6biY"
      },
      "source": [
        "인덱스 (index), 열 (column) 그리고 numpy 데이터에 대한 세부 정보를 봅니다."
      ]
    },
    {
      "cell_type": "code",
      "metadata": {
        "id": "VfRfjm0Q6c-k",
        "outputId": "53763aa5-2c66-455e-a96a-3820d80d812e",
        "colab": {
          "base_uri": "https://localhost:8080/"
        }
      },
      "source": [
        "df.index"
      ],
      "execution_count": 13,
      "outputs": [
        {
          "output_type": "execute_result",
          "data": {
            "text/plain": [
              "DatetimeIndex(['2013-01-01', '2013-01-02', '2013-01-03', '2013-01-04',\n",
              "               '2013-01-05', '2013-01-06'],\n",
              "              dtype='datetime64[ns]', freq='D')"
            ]
          },
          "metadata": {
            "tags": []
          },
          "execution_count": 13
        }
      ]
    },
    {
      "cell_type": "code",
      "metadata": {
        "id": "nyCTZr536jxz",
        "outputId": "69f8f780-7eda-4d91-b617-0cf88d7c4dd3",
        "colab": {
          "base_uri": "https://localhost:8080/"
        }
      },
      "source": [
        "df.columns"
      ],
      "execution_count": 14,
      "outputs": [
        {
          "output_type": "execute_result",
          "data": {
            "text/plain": [
              "Index(['A', 'B', 'C', 'D'], dtype='object')"
            ]
          },
          "metadata": {
            "tags": []
          },
          "execution_count": 14
        }
      ]
    },
    {
      "cell_type": "code",
      "metadata": {
        "id": "2lzlcB9Y6pNd",
        "outputId": "8727b918-3aa1-4c38-cbb2-6297fd4793d2",
        "colab": {
          "base_uri": "https://localhost:8080/"
        }
      },
      "source": [
        "df.values"
      ],
      "execution_count": 15,
      "outputs": [
        {
          "output_type": "execute_result",
          "data": {
            "text/plain": [
              "array([[-0.34242608, -0.85173236,  1.34738899, -0.8122038 ],\n",
              "       [-3.14356852, -0.35492605,  0.00614012,  1.39426024],\n",
              "       [ 0.41786511, -0.20269699, -1.13124697, -0.27579275],\n",
              "       [ 0.29528412,  0.91754506,  0.91877276,  1.90013908],\n",
              "       [ 0.77658994,  0.09647861, -1.09364304, -0.45288244],\n",
              "       [-0.41864935,  0.84309572,  1.0053032 , -1.00776347]])"
            ]
          },
          "metadata": {
            "tags": []
          },
          "execution_count": 15
        }
      ]
    },
    {
      "cell_type": "markdown",
      "metadata": {
        "id": "mGbvNt7N6tws"
      },
      "source": [
        "describe()는 데이터의 대략적인 통계적 정보 요약을 보여줍니다."
      ]
    },
    {
      "cell_type": "code",
      "metadata": {
        "id": "Ag9CaXt36vRm",
        "outputId": "1ef618f2-e54a-463f-e8d3-edfa3081c686",
        "colab": {
          "base_uri": "https://localhost:8080/",
          "height": 284
        }
      },
      "source": [
        "df.describe()"
      ],
      "execution_count": 16,
      "outputs": [
        {
          "output_type": "execute_result",
          "data": {
            "text/html": [
              "<div>\n",
              "<style scoped>\n",
              "    .dataframe tbody tr th:only-of-type {\n",
              "        vertical-align: middle;\n",
              "    }\n",
              "\n",
              "    .dataframe tbody tr th {\n",
              "        vertical-align: top;\n",
              "    }\n",
              "\n",
              "    .dataframe thead th {\n",
              "        text-align: right;\n",
              "    }\n",
              "</style>\n",
              "<table border=\"1\" class=\"dataframe\">\n",
              "  <thead>\n",
              "    <tr style=\"text-align: right;\">\n",
              "      <th></th>\n",
              "      <th>A</th>\n",
              "      <th>B</th>\n",
              "      <th>C</th>\n",
              "      <th>D</th>\n",
              "    </tr>\n",
              "  </thead>\n",
              "  <tbody>\n",
              "    <tr>\n",
              "      <th>count</th>\n",
              "      <td>6.000000</td>\n",
              "      <td>6.000000</td>\n",
              "      <td>6.000000</td>\n",
              "      <td>6.000000</td>\n",
              "    </tr>\n",
              "    <tr>\n",
              "      <th>mean</th>\n",
              "      <td>-0.402484</td>\n",
              "      <td>0.074627</td>\n",
              "      <td>0.175453</td>\n",
              "      <td>0.124293</td>\n",
              "    </tr>\n",
              "    <tr>\n",
              "      <th>std</th>\n",
              "      <td>1.418977</td>\n",
              "      <td>0.695859</td>\n",
              "      <td>1.091911</td>\n",
              "      <td>1.218050</td>\n",
              "    </tr>\n",
              "    <tr>\n",
              "      <th>min</th>\n",
              "      <td>-3.143569</td>\n",
              "      <td>-0.851732</td>\n",
              "      <td>-1.131247</td>\n",
              "      <td>-1.007763</td>\n",
              "    </tr>\n",
              "    <tr>\n",
              "      <th>25%</th>\n",
              "      <td>-0.399594</td>\n",
              "      <td>-0.316869</td>\n",
              "      <td>-0.818697</td>\n",
              "      <td>-0.722373</td>\n",
              "    </tr>\n",
              "    <tr>\n",
              "      <th>50%</th>\n",
              "      <td>-0.023571</td>\n",
              "      <td>-0.053109</td>\n",
              "      <td>0.462456</td>\n",
              "      <td>-0.364338</td>\n",
              "    </tr>\n",
              "    <tr>\n",
              "      <th>75%</th>\n",
              "      <td>0.387220</td>\n",
              "      <td>0.656441</td>\n",
              "      <td>0.983671</td>\n",
              "      <td>0.976747</td>\n",
              "    </tr>\n",
              "    <tr>\n",
              "      <th>max</th>\n",
              "      <td>0.776590</td>\n",
              "      <td>0.917545</td>\n",
              "      <td>1.347389</td>\n",
              "      <td>1.900139</td>\n",
              "    </tr>\n",
              "  </tbody>\n",
              "</table>\n",
              "</div>"
            ],
            "text/plain": [
              "              A         B         C         D\n",
              "count  6.000000  6.000000  6.000000  6.000000\n",
              "mean  -0.402484  0.074627  0.175453  0.124293\n",
              "std    1.418977  0.695859  1.091911  1.218050\n",
              "min   -3.143569 -0.851732 -1.131247 -1.007763\n",
              "25%   -0.399594 -0.316869 -0.818697 -0.722373\n",
              "50%   -0.023571 -0.053109  0.462456 -0.364338\n",
              "75%    0.387220  0.656441  0.983671  0.976747\n",
              "max    0.776590  0.917545  1.347389  1.900139"
            ]
          },
          "metadata": {
            "tags": []
          },
          "execution_count": 16
        }
      ]
    },
    {
      "cell_type": "markdown",
      "metadata": {
        "id": "06Lad5Dy7wz5"
      },
      "source": [
        "데이터를 전치합니다."
      ]
    },
    {
      "cell_type": "code",
      "metadata": {
        "id": "dRw6DdUa7yL-",
        "outputId": "c104084c-e7fc-4152-e92b-167d9e09aca8",
        "colab": {
          "base_uri": "https://localhost:8080/",
          "height": 166
        }
      },
      "source": [
        "df.T"
      ],
      "execution_count": 17,
      "outputs": [
        {
          "output_type": "execute_result",
          "data": {
            "text/html": [
              "<div>\n",
              "<style scoped>\n",
              "    .dataframe tbody tr th:only-of-type {\n",
              "        vertical-align: middle;\n",
              "    }\n",
              "\n",
              "    .dataframe tbody tr th {\n",
              "        vertical-align: top;\n",
              "    }\n",
              "\n",
              "    .dataframe thead th {\n",
              "        text-align: right;\n",
              "    }\n",
              "</style>\n",
              "<table border=\"1\" class=\"dataframe\">\n",
              "  <thead>\n",
              "    <tr style=\"text-align: right;\">\n",
              "      <th></th>\n",
              "      <th>2013-01-01</th>\n",
              "      <th>2013-01-02</th>\n",
              "      <th>2013-01-03</th>\n",
              "      <th>2013-01-04</th>\n",
              "      <th>2013-01-05</th>\n",
              "      <th>2013-01-06</th>\n",
              "    </tr>\n",
              "  </thead>\n",
              "  <tbody>\n",
              "    <tr>\n",
              "      <th>A</th>\n",
              "      <td>-0.342426</td>\n",
              "      <td>-3.143569</td>\n",
              "      <td>0.417865</td>\n",
              "      <td>0.295284</td>\n",
              "      <td>0.776590</td>\n",
              "      <td>-0.418649</td>\n",
              "    </tr>\n",
              "    <tr>\n",
              "      <th>B</th>\n",
              "      <td>-0.851732</td>\n",
              "      <td>-0.354926</td>\n",
              "      <td>-0.202697</td>\n",
              "      <td>0.917545</td>\n",
              "      <td>0.096479</td>\n",
              "      <td>0.843096</td>\n",
              "    </tr>\n",
              "    <tr>\n",
              "      <th>C</th>\n",
              "      <td>1.347389</td>\n",
              "      <td>0.006140</td>\n",
              "      <td>-1.131247</td>\n",
              "      <td>0.918773</td>\n",
              "      <td>-1.093643</td>\n",
              "      <td>1.005303</td>\n",
              "    </tr>\n",
              "    <tr>\n",
              "      <th>D</th>\n",
              "      <td>-0.812204</td>\n",
              "      <td>1.394260</td>\n",
              "      <td>-0.275793</td>\n",
              "      <td>1.900139</td>\n",
              "      <td>-0.452882</td>\n",
              "      <td>-1.007763</td>\n",
              "    </tr>\n",
              "  </tbody>\n",
              "</table>\n",
              "</div>"
            ],
            "text/plain": [
              "   2013-01-01  2013-01-02  2013-01-03  2013-01-04  2013-01-05  2013-01-06\n",
              "A   -0.342426   -3.143569    0.417865    0.295284    0.776590   -0.418649\n",
              "B   -0.851732   -0.354926   -0.202697    0.917545    0.096479    0.843096\n",
              "C    1.347389    0.006140   -1.131247    0.918773   -1.093643    1.005303\n",
              "D   -0.812204    1.394260   -0.275793    1.900139   -0.452882   -1.007763"
            ]
          },
          "metadata": {
            "tags": []
          },
          "execution_count": 17
        }
      ]
    },
    {
      "cell_type": "markdown",
      "metadata": {
        "id": "Yrdqwdb171zF"
      },
      "source": [
        "축 별로 정렬합니다."
      ]
    },
    {
      "cell_type": "code",
      "metadata": {
        "id": "GaAJd_th73XM",
        "outputId": "7f7f1b8f-5e4c-4cc9-85a9-be62c45939b9",
        "colab": {
          "base_uri": "https://localhost:8080/",
          "height": 225
        }
      },
      "source": [
        "df.sort_index(axis=1, ascending=False)"
      ],
      "execution_count": 18,
      "outputs": [
        {
          "output_type": "execute_result",
          "data": {
            "text/html": [
              "<div>\n",
              "<style scoped>\n",
              "    .dataframe tbody tr th:only-of-type {\n",
              "        vertical-align: middle;\n",
              "    }\n",
              "\n",
              "    .dataframe tbody tr th {\n",
              "        vertical-align: top;\n",
              "    }\n",
              "\n",
              "    .dataframe thead th {\n",
              "        text-align: right;\n",
              "    }\n",
              "</style>\n",
              "<table border=\"1\" class=\"dataframe\">\n",
              "  <thead>\n",
              "    <tr style=\"text-align: right;\">\n",
              "      <th></th>\n",
              "      <th>D</th>\n",
              "      <th>C</th>\n",
              "      <th>B</th>\n",
              "      <th>A</th>\n",
              "    </tr>\n",
              "  </thead>\n",
              "  <tbody>\n",
              "    <tr>\n",
              "      <th>2013-01-01</th>\n",
              "      <td>-0.812204</td>\n",
              "      <td>1.347389</td>\n",
              "      <td>-0.851732</td>\n",
              "      <td>-0.342426</td>\n",
              "    </tr>\n",
              "    <tr>\n",
              "      <th>2013-01-02</th>\n",
              "      <td>1.394260</td>\n",
              "      <td>0.006140</td>\n",
              "      <td>-0.354926</td>\n",
              "      <td>-3.143569</td>\n",
              "    </tr>\n",
              "    <tr>\n",
              "      <th>2013-01-03</th>\n",
              "      <td>-0.275793</td>\n",
              "      <td>-1.131247</td>\n",
              "      <td>-0.202697</td>\n",
              "      <td>0.417865</td>\n",
              "    </tr>\n",
              "    <tr>\n",
              "      <th>2013-01-04</th>\n",
              "      <td>1.900139</td>\n",
              "      <td>0.918773</td>\n",
              "      <td>0.917545</td>\n",
              "      <td>0.295284</td>\n",
              "    </tr>\n",
              "    <tr>\n",
              "      <th>2013-01-05</th>\n",
              "      <td>-0.452882</td>\n",
              "      <td>-1.093643</td>\n",
              "      <td>0.096479</td>\n",
              "      <td>0.776590</td>\n",
              "    </tr>\n",
              "    <tr>\n",
              "      <th>2013-01-06</th>\n",
              "      <td>-1.007763</td>\n",
              "      <td>1.005303</td>\n",
              "      <td>0.843096</td>\n",
              "      <td>-0.418649</td>\n",
              "    </tr>\n",
              "  </tbody>\n",
              "</table>\n",
              "</div>"
            ],
            "text/plain": [
              "                   D         C         B         A\n",
              "2013-01-01 -0.812204  1.347389 -0.851732 -0.342426\n",
              "2013-01-02  1.394260  0.006140 -0.354926 -3.143569\n",
              "2013-01-03 -0.275793 -1.131247 -0.202697  0.417865\n",
              "2013-01-04  1.900139  0.918773  0.917545  0.295284\n",
              "2013-01-05 -0.452882 -1.093643  0.096479  0.776590\n",
              "2013-01-06 -1.007763  1.005303  0.843096 -0.418649"
            ]
          },
          "metadata": {
            "tags": []
          },
          "execution_count": 18
        }
      ]
    },
    {
      "cell_type": "markdown",
      "metadata": {
        "id": "S2E893VN9tXr"
      },
      "source": [
        "값 별로 정렬합니다."
      ]
    },
    {
      "cell_type": "code",
      "metadata": {
        "id": "twOUzLrb-QSj",
        "outputId": "d640110e-018c-4cf4-d32c-26ebee2e2ac1",
        "colab": {
          "base_uri": "https://localhost:8080/",
          "height": 225
        }
      },
      "source": [
        "df.sort_values(by='B')"
      ],
      "execution_count": 19,
      "outputs": [
        {
          "output_type": "execute_result",
          "data": {
            "text/html": [
              "<div>\n",
              "<style scoped>\n",
              "    .dataframe tbody tr th:only-of-type {\n",
              "        vertical-align: middle;\n",
              "    }\n",
              "\n",
              "    .dataframe tbody tr th {\n",
              "        vertical-align: top;\n",
              "    }\n",
              "\n",
              "    .dataframe thead th {\n",
              "        text-align: right;\n",
              "    }\n",
              "</style>\n",
              "<table border=\"1\" class=\"dataframe\">\n",
              "  <thead>\n",
              "    <tr style=\"text-align: right;\">\n",
              "      <th></th>\n",
              "      <th>A</th>\n",
              "      <th>B</th>\n",
              "      <th>C</th>\n",
              "      <th>D</th>\n",
              "    </tr>\n",
              "  </thead>\n",
              "  <tbody>\n",
              "    <tr>\n",
              "      <th>2013-01-01</th>\n",
              "      <td>-0.342426</td>\n",
              "      <td>-0.851732</td>\n",
              "      <td>1.347389</td>\n",
              "      <td>-0.812204</td>\n",
              "    </tr>\n",
              "    <tr>\n",
              "      <th>2013-01-02</th>\n",
              "      <td>-3.143569</td>\n",
              "      <td>-0.354926</td>\n",
              "      <td>0.006140</td>\n",
              "      <td>1.394260</td>\n",
              "    </tr>\n",
              "    <tr>\n",
              "      <th>2013-01-03</th>\n",
              "      <td>0.417865</td>\n",
              "      <td>-0.202697</td>\n",
              "      <td>-1.131247</td>\n",
              "      <td>-0.275793</td>\n",
              "    </tr>\n",
              "    <tr>\n",
              "      <th>2013-01-05</th>\n",
              "      <td>0.776590</td>\n",
              "      <td>0.096479</td>\n",
              "      <td>-1.093643</td>\n",
              "      <td>-0.452882</td>\n",
              "    </tr>\n",
              "    <tr>\n",
              "      <th>2013-01-06</th>\n",
              "      <td>-0.418649</td>\n",
              "      <td>0.843096</td>\n",
              "      <td>1.005303</td>\n",
              "      <td>-1.007763</td>\n",
              "    </tr>\n",
              "    <tr>\n",
              "      <th>2013-01-04</th>\n",
              "      <td>0.295284</td>\n",
              "      <td>0.917545</td>\n",
              "      <td>0.918773</td>\n",
              "      <td>1.900139</td>\n",
              "    </tr>\n",
              "  </tbody>\n",
              "</table>\n",
              "</div>"
            ],
            "text/plain": [
              "                   A         B         C         D\n",
              "2013-01-01 -0.342426 -0.851732  1.347389 -0.812204\n",
              "2013-01-02 -3.143569 -0.354926  0.006140  1.394260\n",
              "2013-01-03  0.417865 -0.202697 -1.131247 -0.275793\n",
              "2013-01-05  0.776590  0.096479 -1.093643 -0.452882\n",
              "2013-01-06 -0.418649  0.843096  1.005303 -1.007763\n",
              "2013-01-04  0.295284  0.917545  0.918773  1.900139"
            ]
          },
          "metadata": {
            "tags": []
          },
          "execution_count": 19
        }
      ]
    },
    {
      "cell_type": "markdown",
      "metadata": {
        "id": "suEVInsq-awD"
      },
      "source": [
        "# 3. Selection (선택)\n",
        "주석 (Note) : 선택과 설정을 위한 Python / Numpy의 표준화된 표현들이 직관적이며, 코드 작성을 위한 양방향 작업에 유용하지만 우리는 Pandas에 최적화된 데이터 접근 방법인 .at, .iat, .loc 및 .iloc 을 추천합니다.\n",
        "\n",
        "데이터 인덱싱 및 선택 문서와 다중 인덱싱 / 심화 인덱싱 문서를 참조하세요.\n",
        "\n",
        "Getting (데이터 얻기)  \n",
        "\n",
        "df.A 와 동일한 Series를 생성하는 단일 열을 선택합니다."
      ]
    },
    {
      "cell_type": "code",
      "metadata": {
        "id": "_aAgi_ZZ-f_b",
        "outputId": "d1de3ed5-035d-408f-ed08-8f55a202a659",
        "colab": {
          "base_uri": "https://localhost:8080/"
        }
      },
      "source": [
        "df['A']"
      ],
      "execution_count": 24,
      "outputs": [
        {
          "output_type": "execute_result",
          "data": {
            "text/plain": [
              "2013-01-01   -0.342426\n",
              "2013-01-02   -3.143569\n",
              "2013-01-03    0.417865\n",
              "2013-01-04    0.295284\n",
              "2013-01-05    0.776590\n",
              "2013-01-06   -0.418649\n",
              "Freq: D, Name: A, dtype: float64"
            ]
          },
          "metadata": {
            "tags": []
          },
          "execution_count": 24
        }
      ]
    },
    {
      "cell_type": "markdown",
      "metadata": {
        "id": "AZnd3A3W-978"
      },
      "source": [
        "행을 분할하는 [ ]를 통해 선택합니다."
      ]
    },
    {
      "cell_type": "code",
      "metadata": {
        "id": "E65uolKY_Aed",
        "outputId": "a2c04ab8-6853-4942-d31e-ae24e95d0879",
        "colab": {
          "base_uri": "https://localhost:8080/",
          "height": 136
        }
      },
      "source": [
        "df[0:3]\n"
      ],
      "execution_count": 23,
      "outputs": [
        {
          "output_type": "execute_result",
          "data": {
            "text/html": [
              "<div>\n",
              "<style scoped>\n",
              "    .dataframe tbody tr th:only-of-type {\n",
              "        vertical-align: middle;\n",
              "    }\n",
              "\n",
              "    .dataframe tbody tr th {\n",
              "        vertical-align: top;\n",
              "    }\n",
              "\n",
              "    .dataframe thead th {\n",
              "        text-align: right;\n",
              "    }\n",
              "</style>\n",
              "<table border=\"1\" class=\"dataframe\">\n",
              "  <thead>\n",
              "    <tr style=\"text-align: right;\">\n",
              "      <th></th>\n",
              "      <th>A</th>\n",
              "      <th>B</th>\n",
              "      <th>C</th>\n",
              "      <th>D</th>\n",
              "    </tr>\n",
              "  </thead>\n",
              "  <tbody>\n",
              "    <tr>\n",
              "      <th>2013-01-01</th>\n",
              "      <td>-0.342426</td>\n",
              "      <td>-0.851732</td>\n",
              "      <td>1.347389</td>\n",
              "      <td>-0.812204</td>\n",
              "    </tr>\n",
              "    <tr>\n",
              "      <th>2013-01-02</th>\n",
              "      <td>-3.143569</td>\n",
              "      <td>-0.354926</td>\n",
              "      <td>0.006140</td>\n",
              "      <td>1.394260</td>\n",
              "    </tr>\n",
              "    <tr>\n",
              "      <th>2013-01-03</th>\n",
              "      <td>0.417865</td>\n",
              "      <td>-0.202697</td>\n",
              "      <td>-1.131247</td>\n",
              "      <td>-0.275793</td>\n",
              "    </tr>\n",
              "  </tbody>\n",
              "</table>\n",
              "</div>"
            ],
            "text/plain": [
              "                   A         B         C         D\n",
              "2013-01-01 -0.342426 -0.851732  1.347389 -0.812204\n",
              "2013-01-02 -3.143569 -0.354926  0.006140  1.394260\n",
              "2013-01-03  0.417865 -0.202697 -1.131247 -0.275793"
            ]
          },
          "metadata": {
            "tags": []
          },
          "execution_count": 23
        }
      ]
    },
    {
      "cell_type": "code",
      "metadata": {
        "id": "gkOjD6NI_Cq9"
      },
      "source": [
        "df['20130102':'20130104']"
      ],
      "execution_count": null,
      "outputs": []
    },
    {
      "cell_type": "markdown",
      "metadata": {
        "id": "c-0ohAxx_EX0"
      },
      "source": [
        "Selection by Label (Label 을 통한 선택)\n",
        "Label을 통한 선택에서 더 많은 내용을 확인하세요.\n",
        "\n",
        "라벨을 사용하여 횡단면을 얻습니다."
      ]
    },
    {
      "cell_type": "code",
      "metadata": {
        "id": "gal7zSZp_GuJ",
        "outputId": "e6d1329a-5234-4b64-fcb9-c13b116b4803",
        "colab": {
          "base_uri": "https://localhost:8080/"
        }
      },
      "source": [
        "df.loc[dates[0]]"
      ],
      "execution_count": 22,
      "outputs": [
        {
          "output_type": "execute_result",
          "data": {
            "text/plain": [
              "A   -0.342426\n",
              "B   -0.851732\n",
              "C    1.347389\n",
              "D   -0.812204\n",
              "Name: 2013-01-01 00:00:00, dtype: float64"
            ]
          },
          "metadata": {
            "tags": []
          },
          "execution_count": 22
        }
      ]
    },
    {
      "cell_type": "markdown",
      "metadata": {
        "id": "N5JMbKY7_IU0"
      },
      "source": [
        "라벨을 사용하여 여러 축 (의 데이터)을 얻습니다."
      ]
    },
    {
      "cell_type": "code",
      "metadata": {
        "id": "FZJFJfNx_J1U",
        "outputId": "0448d8e9-c2ef-48cd-ce48-23fec5d18a74",
        "colab": {
          "base_uri": "https://localhost:8080/",
          "height": 225
        }
      },
      "source": [
        "df.loc[:,['A','B']]"
      ],
      "execution_count": 21,
      "outputs": [
        {
          "output_type": "execute_result",
          "data": {
            "text/html": [
              "<div>\n",
              "<style scoped>\n",
              "    .dataframe tbody tr th:only-of-type {\n",
              "        vertical-align: middle;\n",
              "    }\n",
              "\n",
              "    .dataframe tbody tr th {\n",
              "        vertical-align: top;\n",
              "    }\n",
              "\n",
              "    .dataframe thead th {\n",
              "        text-align: right;\n",
              "    }\n",
              "</style>\n",
              "<table border=\"1\" class=\"dataframe\">\n",
              "  <thead>\n",
              "    <tr style=\"text-align: right;\">\n",
              "      <th></th>\n",
              "      <th>A</th>\n",
              "      <th>B</th>\n",
              "    </tr>\n",
              "  </thead>\n",
              "  <tbody>\n",
              "    <tr>\n",
              "      <th>2013-01-01</th>\n",
              "      <td>-0.342426</td>\n",
              "      <td>-0.851732</td>\n",
              "    </tr>\n",
              "    <tr>\n",
              "      <th>2013-01-02</th>\n",
              "      <td>-3.143569</td>\n",
              "      <td>-0.354926</td>\n",
              "    </tr>\n",
              "    <tr>\n",
              "      <th>2013-01-03</th>\n",
              "      <td>0.417865</td>\n",
              "      <td>-0.202697</td>\n",
              "    </tr>\n",
              "    <tr>\n",
              "      <th>2013-01-04</th>\n",
              "      <td>0.295284</td>\n",
              "      <td>0.917545</td>\n",
              "    </tr>\n",
              "    <tr>\n",
              "      <th>2013-01-05</th>\n",
              "      <td>0.776590</td>\n",
              "      <td>0.096479</td>\n",
              "    </tr>\n",
              "    <tr>\n",
              "      <th>2013-01-06</th>\n",
              "      <td>-0.418649</td>\n",
              "      <td>0.843096</td>\n",
              "    </tr>\n",
              "  </tbody>\n",
              "</table>\n",
              "</div>"
            ],
            "text/plain": [
              "                   A         B\n",
              "2013-01-01 -0.342426 -0.851732\n",
              "2013-01-02 -3.143569 -0.354926\n",
              "2013-01-03  0.417865 -0.202697\n",
              "2013-01-04  0.295284  0.917545\n",
              "2013-01-05  0.776590  0.096479\n",
              "2013-01-06 -0.418649  0.843096"
            ]
          },
          "metadata": {
            "tags": []
          },
          "execution_count": 21
        }
      ]
    }
  ]
}